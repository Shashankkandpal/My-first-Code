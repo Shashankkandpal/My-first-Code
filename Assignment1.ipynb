{
 "cells": [
  {
   "cell_type": "code",
   "execution_count": 4,
   "id": "2900ec0f",
   "metadata": {},
   "outputs": [
    {
     "data": {
      "text/plain": [
       "'\\nQ1. In the below elements which of them are values or an expression? eg:- values can be\\ninteger or string and expressions will be mathematical operators.\\n*\\nhello\\n-87.8\\n-\\n/\\n+\\n6\\n'"
      ]
     },
     "execution_count": 4,
     "metadata": {},
     "output_type": "execute_result"
    }
   ],
   "source": [
    "\"\"\"\n",
    "Q1. In the below elements which of them are values or an expression? eg:- values can be\n",
    "integer or string and expressions will be mathematical operators.\n",
    "*\n",
    "hello\n",
    "-87.8\n",
    "-\n",
    "/\n",
    "+\n",
    "6\n",
    "\"\"\""
   ]
  },
  {
   "cell_type": "code",
   "execution_count": 2,
   "id": "de459721",
   "metadata": {},
   "outputs": [
    {
     "data": {
      "text/plain": [
       "'\\nAns1. \\n\\n*  ------- Expression\\nhello ------ String\\n-87.8 ------ String\\n-  --------- Expression\\n/--------- Expression\\n+  ------- Expression\\n6-------  String\\n\\n'"
      ]
     },
     "execution_count": 2,
     "metadata": {},
     "output_type": "execute_result"
    }
   ],
   "source": [
    "\"\"\"\n",
    "Ans1. \n",
    "\n",
    "*  ------- Expression\n",
    "hello ------ String\n",
    "-87.8 ------ String\n",
    "-  --------- Expression\n",
    "/--------- Expression\n",
    "+  ------- Expression\n",
    "6-------  String\n",
    "\n",
    "\"\"\""
   ]
  },
  {
   "cell_type": "code",
   "execution_count": null,
   "id": "0a58c9ff",
   "metadata": {},
   "outputs": [],
   "source": []
  },
  {
   "cell_type": "code",
   "execution_count": 5,
   "id": "c17c75b6",
   "metadata": {},
   "outputs": [
    {
     "data": {
      "text/plain": [
       "'\\nQ2. What is the difference between string and variable?\\n\\n'"
      ]
     },
     "execution_count": 5,
     "metadata": {},
     "output_type": "execute_result"
    }
   ],
   "source": [
    "\"\"\"\n",
    "Q2. What is the difference between string and variable?\n",
    "\n",
    "\"\"\""
   ]
  },
  {
   "cell_type": "code",
   "execution_count": 6,
   "id": "04541c94",
   "metadata": {},
   "outputs": [
    {
     "data": {
      "text/plain": [
       "'\\nAns2. Those quantities whose values may change during the execution of a program are called Variables.\\n      String is also one kind of variable which stores only the string type of data. This data is enclosed with the\\n      \"\" double quotes. \\n'"
      ]
     },
     "execution_count": 6,
     "metadata": {},
     "output_type": "execute_result"
    }
   ],
   "source": [
    "\"\"\"\n",
    "Ans2. Those quantities whose values may change during the execution of a program are called Variables.\n",
    "      String is also one kind of variable which stores only the string type of data. This data is enclosed with the\n",
    "      \"\" double quotes. \n",
    "\"\"\""
   ]
  },
  {
   "cell_type": "code",
   "execution_count": null,
   "id": "05d44a5f",
   "metadata": {},
   "outputs": [],
   "source": []
  },
  {
   "cell_type": "code",
   "execution_count": 16,
   "id": "f895af0f",
   "metadata": {},
   "outputs": [
    {
     "data": {
      "text/plain": [
       "'\\nQ3. Describe three different data types.\\n'"
      ]
     },
     "execution_count": 16,
     "metadata": {},
     "output_type": "execute_result"
    }
   ],
   "source": [
    "\"\"\"\n",
    "Q3. Describe three different data types.\n",
    "\"\"\""
   ]
  },
  {
   "cell_type": "code",
   "execution_count": 17,
   "id": "15d127ad",
   "metadata": {},
   "outputs": [
    {
     "data": {
      "text/plain": [
       "'\\nAns3. Three types of data type are:\\n      1. Numeric data types: int, float, complex.\\n      2. String data types: str.\\n      3. Boolean type: bool.\\n'"
      ]
     },
     "execution_count": 17,
     "metadata": {},
     "output_type": "execute_result"
    }
   ],
   "source": [
    "\"\"\"\n",
    "Ans3. Three types of data type are:\n",
    "      1. Numeric data types: int, float, complex.\n",
    "      2. String data types: str.\n",
    "      3. Boolean type: bool.\n",
    "\"\"\""
   ]
  },
  {
   "cell_type": "code",
   "execution_count": null,
   "id": "00cb7a24",
   "metadata": {},
   "outputs": [],
   "source": []
  },
  {
   "cell_type": "code",
   "execution_count": 18,
   "id": "37e39982",
   "metadata": {},
   "outputs": [
    {
     "data": {
      "text/plain": [
       "'\\nQ4. What is an expression made up of? What do all expressions do?\\n'"
      ]
     },
     "execution_count": 18,
     "metadata": {},
     "output_type": "execute_result"
    }
   ],
   "source": [
    "\"\"\"\n",
    "Q4. What is an expression made up of? What do all expressions do?\n",
    "\"\"\""
   ]
  },
  {
   "cell_type": "code",
   "execution_count": 19,
   "id": "8e6b1334",
   "metadata": {},
   "outputs": [
    {
     "data": {
      "text/plain": [
       "'\\nAns4. An expression is a combination of values, variables, operators, and calls to functions.\\n      The expressions contain a value which is caluclates as a parts of its components. Like String is also an expresison\\n      as it contain string as a value.\\n\\n'"
      ]
     },
     "execution_count": 19,
     "metadata": {},
     "output_type": "execute_result"
    }
   ],
   "source": [
    "\"\"\"\n",
    "Ans4. An expression is a combination of values, variables, operators, and calls to functions.\n",
    "      The expressions contain a value which is caluclates as a parts of its components. Like String is also an expresison\n",
    "      as it contain string as a value.\n",
    "\n",
    "\"\"\""
   ]
  },
  {
   "cell_type": "code",
   "execution_count": null,
   "id": "fc3344ad",
   "metadata": {},
   "outputs": [],
   "source": []
  },
  {
   "cell_type": "code",
   "execution_count": 20,
   "id": "b32d9621",
   "metadata": {},
   "outputs": [
    {
     "data": {
      "text/plain": [
       "'\\nQ5. This assignment statements, like spam = 10. What is the difference between an\\nexpression and a statement?\\n'"
      ]
     },
     "execution_count": 20,
     "metadata": {},
     "output_type": "execute_result"
    }
   ],
   "source": [
    "\"\"\"\n",
    "Q5. This assignment statements, like spam = 10. What is the difference between an\n",
    "expression and a statement?\n",
    "\"\"\""
   ]
  },
  {
   "cell_type": "code",
   "execution_count": 21,
   "id": "c88822e9",
   "metadata": {},
   "outputs": [
    {
     "data": {
      "text/plain": [
       "'\\nAns5. A statement in Python is used for creating variables or for displaying values. \\n      The expression in Python produces some value or result after being interpreted by the Python interpreter.\\n      A statement in Python is not evaluated for some results.\\n'"
      ]
     },
     "execution_count": 21,
     "metadata": {},
     "output_type": "execute_result"
    }
   ],
   "source": [
    "\"\"\"\n",
    "Ans5. A statement in Python is used for creating variables or for displaying values. \n",
    "      The expression in Python produces some value or result after being interpreted by the Python interpreter.\n",
    "      A statement in Python is not evaluated for some results.\n",
    "\"\"\""
   ]
  },
  {
   "cell_type": "code",
   "execution_count": null,
   "id": "6e57121a",
   "metadata": {},
   "outputs": [],
   "source": []
  },
  {
   "cell_type": "code",
   "execution_count": 22,
   "id": "e1652c12",
   "metadata": {},
   "outputs": [
    {
     "data": {
      "text/plain": [
       "'\\nQ6. After running the following code, what does the variable bacon contain?\\nbacon = 22\\nbacon + 1\\n'"
      ]
     },
     "execution_count": 22,
     "metadata": {},
     "output_type": "execute_result"
    }
   ],
   "source": [
    "\"\"\"\n",
    "Q6. After running the following code, what does the variable bacon contain?\n",
    "bacon = 22\n",
    "bacon + 1\n",
    "\"\"\""
   ]
  },
  {
   "cell_type": "code",
   "execution_count": 23,
   "id": "73523931",
   "metadata": {},
   "outputs": [
    {
     "data": {
      "text/plain": [
       "22"
      ]
     },
     "execution_count": 23,
     "metadata": {},
     "output_type": "execute_result"
    }
   ],
   "source": [
    "bacon = 22\n",
    "bacon + 1\n",
    "bacon"
   ]
  },
  {
   "cell_type": "code",
   "execution_count": 24,
   "id": "4abca5d1",
   "metadata": {},
   "outputs": [
    {
     "data": {
      "text/plain": [
       "'\\nAns6. Bacon contains value 22\\n'"
      ]
     },
     "execution_count": 24,
     "metadata": {},
     "output_type": "execute_result"
    }
   ],
   "source": [
    "\"\"\"\n",
    "Ans6. Bacon contains value 22\n",
    "\"\"\""
   ]
  },
  {
   "cell_type": "code",
   "execution_count": null,
   "id": "6b55def0",
   "metadata": {},
   "outputs": [],
   "source": []
  },
  {
   "cell_type": "code",
   "execution_count": 25,
   "id": "135e36c2",
   "metadata": {},
   "outputs": [
    {
     "data": {
      "text/plain": [
       "\"\\nQ7. What should the values of the following two terms be?\\n'spam' + 'spamspam'\\n'spam' * 3\\n\\n\""
      ]
     },
     "execution_count": 25,
     "metadata": {},
     "output_type": "execute_result"
    }
   ],
   "source": [
    "\"\"\"\n",
    "Q7. What should the values of the following two terms be?\n",
    "'spam' + 'spamspam'\n",
    "'spam' * 3\n",
    "\n",
    "\"\"\""
   ]
  },
  {
   "cell_type": "code",
   "execution_count": 26,
   "id": "9ef2537d",
   "metadata": {},
   "outputs": [
    {
     "data": {
      "text/plain": [
       "'spamspamspam'"
      ]
     },
     "execution_count": 26,
     "metadata": {},
     "output_type": "execute_result"
    }
   ],
   "source": [
    "'spam' + 'spamspam'\n"
   ]
  },
  {
   "cell_type": "code",
   "execution_count": 27,
   "id": "c7f755f6",
   "metadata": {},
   "outputs": [
    {
     "data": {
      "text/plain": [
       "'spamspamspam'"
      ]
     },
     "execution_count": 27,
     "metadata": {},
     "output_type": "execute_result"
    }
   ],
   "source": [
    "'spam' * 3"
   ]
  },
  {
   "cell_type": "code",
   "execution_count": 28,
   "id": "8d211ea1",
   "metadata": {},
   "outputs": [
    {
     "data": {
      "text/plain": [
       "\"\\nAns7. The values of the 2 terms are\\n     'spamspamspam' and 'spamspamspam'\\n\""
      ]
     },
     "execution_count": 28,
     "metadata": {},
     "output_type": "execute_result"
    }
   ],
   "source": [
    "\"\"\"\n",
    "Ans7. The values of the 2 terms are\n",
    "     'spamspamspam' and 'spamspamspam'\n",
    "\"\"\""
   ]
  },
  {
   "cell_type": "code",
   "execution_count": null,
   "id": "a41610d5",
   "metadata": {},
   "outputs": [],
   "source": []
  },
  {
   "cell_type": "code",
   "execution_count": 29,
   "id": "e868147a",
   "metadata": {},
   "outputs": [
    {
     "data": {
      "text/plain": [
       "'\\nQ8. Why is eggs a valid variable name while 100 is invalid?\\n'"
      ]
     },
     "execution_count": 29,
     "metadata": {},
     "output_type": "execute_result"
    }
   ],
   "source": [
    "\"\"\"\n",
    "Q8. Why is eggs a valid variable name while 100 is invalid?\n",
    "\"\"\""
   ]
  },
  {
   "cell_type": "code",
   "execution_count": 30,
   "id": "8a6edc01",
   "metadata": {},
   "outputs": [
    {
     "data": {
      "text/plain": [
       "'\\nAns8. Eggs is avalid variable as a value can be assigned to it while a number cannot be a variable as values cannot\\n     be assigned to it. we will get the following erroe \"cannot assign to literal\"\\'\\'\\n'"
      ]
     },
     "execution_count": 30,
     "metadata": {},
     "output_type": "execute_result"
    }
   ],
   "source": [
    "\"\"\"\n",
    "Ans8. Eggs is avalid variable as a value can be assigned to it while a number cannot be a variable as values cannot\n",
    "     be assigned to it. we will get the following erroe \"cannot assign to literal\"''\n",
    "\"\"\""
   ]
  },
  {
   "cell_type": "code",
   "execution_count": null,
   "id": "a3e033a9",
   "metadata": {},
   "outputs": [],
   "source": []
  },
  {
   "cell_type": "code",
   "execution_count": 31,
   "id": "c8c68bcc",
   "metadata": {},
   "outputs": [
    {
     "data": {
      "text/plain": [
       "'\\nQ9. What three functions can be used to get the integer, floating-point number, or string\\nversion of a value?\\n\\n'"
      ]
     },
     "execution_count": 31,
     "metadata": {},
     "output_type": "execute_result"
    }
   ],
   "source": [
    "\"\"\"\n",
    "Q9. What three functions can be used to get the integer, floating-point number, or string\n",
    "version of a value?\n",
    "\n",
    "\"\"\""
   ]
  },
  {
   "cell_type": "code",
   "execution_count": 32,
   "id": "baebca65",
   "metadata": {},
   "outputs": [
    {
     "data": {
      "text/plain": [
       "'\\nAns9. The int() , float() , and str( ) functions will evaluate \\n      to the integer, floating-point number, and string versions of the value passed to them.\\n\\n'"
      ]
     },
     "execution_count": 32,
     "metadata": {},
     "output_type": "execute_result"
    }
   ],
   "source": [
    "\"\"\"\n",
    "Ans9. The int() , float() , and str( ) functions will evaluate \n",
    "      to the integer, floating-point number, and string versions of the value passed to them.\n",
    "\n",
    "\"\"\""
   ]
  },
  {
   "cell_type": "code",
   "execution_count": null,
   "id": "d3469549",
   "metadata": {},
   "outputs": [],
   "source": []
  },
  {
   "cell_type": "code",
   "execution_count": 33,
   "id": "4775dd60",
   "metadata": {},
   "outputs": [
    {
     "data": {
      "text/plain": [
       "\"\\nQ10. Why does this expression cause an error? How can you fix it?\\n'I have eaten' + 99 +  'burritos'\\n\""
      ]
     },
     "execution_count": 33,
     "metadata": {},
     "output_type": "execute_result"
    }
   ],
   "source": [
    "\"\"\"\n",
    "Q10. Why does this expression cause an error? How can you fix it?\n",
    "'I have eaten' + 99 +  'burritos'\n",
    "\"\"\""
   ]
  },
  {
   "cell_type": "code",
   "execution_count": 34,
   "id": "851fbf2c",
   "metadata": {},
   "outputs": [
    {
     "data": {
      "text/plain": [
       "\"\\nAns10.. This expresiion will give error because we cannot concatenate string with integer as they are diff data types.\\n      Corrected expression will be ( 'I have eaten' + '99' +  'burritos')\\n\""
      ]
     },
     "execution_count": 34,
     "metadata": {},
     "output_type": "execute_result"
    }
   ],
   "source": [
    "\"\"\"\n",
    "Ans10.. This expresiion will give error because we cannot concatenate string with integer as they are diff data types.\n",
    "      Corrected expression will be ( 'I have eaten' + '99' +  'burritos')\n",
    "\"\"\""
   ]
  },
  {
   "cell_type": "code",
   "execution_count": null,
   "id": "5720f725",
   "metadata": {},
   "outputs": [],
   "source": []
  },
  {
   "cell_type": "code",
   "execution_count": null,
   "id": "20610052",
   "metadata": {},
   "outputs": [],
   "source": []
  },
  {
   "cell_type": "code",
   "execution_count": null,
   "id": "b0518ff3",
   "metadata": {},
   "outputs": [],
   "source": []
  }
 ],
 "metadata": {
  "kernelspec": {
   "display_name": "Python 3 (ipykernel)",
   "language": "python",
   "name": "python3"
  },
  "language_info": {
   "codemirror_mode": {
    "name": "ipython",
    "version": 3
   },
   "file_extension": ".py",
   "mimetype": "text/x-python",
   "name": "python",
   "nbconvert_exporter": "python",
   "pygments_lexer": "ipython3",
   "version": "3.9.7"
  }
 },
 "nbformat": 4,
 "nbformat_minor": 5
}
