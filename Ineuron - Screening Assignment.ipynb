{
 "cells": [
  {
   "cell_type": "markdown",
   "id": "ea0b72e9",
   "metadata": {},
   "source": [
    "## Function to read a text file and replace the contents"
   ]
  },
  {
   "cell_type": "code",
   "execution_count": 281,
   "id": "c374a4dd",
   "metadata": {},
   "outputs": [
    {
     "name": "stdout",
     "output_type": "stream",
     "text": [
      "Enter the old_string -  hello\n",
      "Enter the new_string -  k\n",
      "\n",
      "\n"
     ]
    },
    {
     "data": {
      "text/plain": [
       "'The file is successfuly edited'"
      ]
     },
     "execution_count": 281,
     "metadata": {},
     "output_type": "execute_result"
    }
   ],
   "source": [
    "def Replace_String(filename):\n",
    "    old_string = str(input(\"Enter the old_string -  \"))\n",
    "    new_string = str(input(\"Enter the new_string -  \"))\n",
    "    print(\"\\n\")\n",
    "    with open(filename, 'r+') as f:\n",
    "        data = f.read()\n",
    "        if old_string not in data:\n",
    "             return (\"The entered string does not exist in the file\")\n",
    "        else:\n",
    "            f.truncate(0)\n",
    "            f.seek(0)\n",
    "            data = data.replace(old_string, new_string)\n",
    "            f.write(data)\n",
    "            f.close()\n",
    "            return (\"The file is successfuly edited\")\n",
    "        \n",
    "        \n",
    "Replace_String(\"Replace.txt\")"
   ]
  },
  {
   "cell_type": "markdown",
   "id": "80ecbfd9",
   "metadata": {},
   "source": [
    "## Abstract Class and Multiple Inheritence Example"
   ]
  },
  {
   "cell_type": "code",
   "execution_count": 245,
   "id": "fbf19ca8",
   "metadata": {},
   "outputs": [],
   "source": [
    "from abc import ABC, abstractmethod"
   ]
  },
  {
   "cell_type": "code",
   "execution_count": 279,
   "id": "3aff5a60",
   "metadata": {},
   "outputs": [
    {
     "name": "stdout",
     "output_type": "stream",
     "text": [
      "The course name is FSDS\n",
      "The course price is INR 15000\n",
      "The instructor name is Sudhanshu Kumar\n",
      "The instructor experience is 7 years\n"
     ]
    }
   ],
   "source": [
    "class Ineuron_course(ABC):\n",
    "    @abstractmethod         ## defining the method as abstract method\n",
    "    def course_name(self):\n",
    "        pass\n",
    "    @abstractmethod  \n",
    "    def course_price(self):\n",
    "        pass\n",
    "    \n",
    "class Ineuron_instructor(ABC):\n",
    "    @abstractmethod         ## defining the method as abstract method\n",
    "    def instructor_name(self):\n",
    "        pass\n",
    "    @abstractmethod\n",
    "    def instructor_exp(self):\n",
    "        pass\n",
    "    \n",
    "class course(Ineuron_course,Ineuron_instructor):   ## multiple inheritance from above 2 classes\n",
    "    def __init__(self, cname,cprice,iname,iexp):\n",
    "        self.cname = cname\n",
    "        self.cprice = cprice\n",
    "        self.iname = iname\n",
    "        self.iexp = iexp  \n",
    "                                  ## due to abstract classes this class has to define the above 4 functions in its body\n",
    "    def course_name(self):        \n",
    "        print (\"The course name is\", self.cname)\n",
    "    def course_price(self):\n",
    "        print (\"The course price is INR\", self.cprice)\n",
    "    def instructor_name(self):\n",
    "        print (\"The instructor name is\", self.iname)\n",
    "    def instructor_exp(self):\n",
    "        print (\"The instructor experience is\", self.iexp ,\"years\")\n",
    "    \n",
    "    \n",
    "DataScience = course(\"FSDS\", 15000, \"Sudhanshu Kumar\", 7)\n",
    "DataScience.course_name()\n",
    "DataScience.course_price()\n",
    "DataScience.instructor_name()\n",
    "DataScience.instructor_exp()\n",
    "\n"
   ]
  },
  {
   "cell_type": "markdown",
   "id": "4ddb647e",
   "metadata": {},
   "source": [
    "## Decorator Example"
   ]
  },
  {
   "cell_type": "code",
   "execution_count": 291,
   "id": "e7b86c7f",
   "metadata": {},
   "outputs": [],
   "source": [
    "def swap_div(func):  ## defining a function which swaps the digits if numerator is less than denominator\n",
    "    def swap(a,b):   \n",
    "        if a<b:\n",
    "            a,b =b,a\n",
    "        return func(a,b)\n",
    "    return swap\n",
    "\n",
    "@swap_div        ## using decorator to to call divide function inside the swap_div function as an argument\n",
    "def divide(a,b):\n",
    "    return a/b"
   ]
  },
  {
   "cell_type": "code",
   "execution_count": 284,
   "id": "50d1003c",
   "metadata": {},
   "outputs": [
    {
     "data": {
      "text/plain": [
       "3.0"
      ]
     },
     "execution_count": 284,
     "metadata": {},
     "output_type": "execute_result"
    }
   ],
   "source": [
    "divide(2,6) "
   ]
  },
  {
   "cell_type": "code",
   "execution_count": 292,
   "id": "c349a4b8",
   "metadata": {},
   "outputs": [
    {
     "data": {
      "text/plain": [
       "3.0"
      ]
     },
     "execution_count": 292,
     "metadata": {},
     "output_type": "execute_result"
    }
   ],
   "source": [
    "divide(6,2)  ## both the ways the answer is 3 due to decorator function"
   ]
  },
  {
   "cell_type": "code",
   "execution_count": null,
   "id": "6fc5183d",
   "metadata": {},
   "outputs": [],
   "source": []
  },
  {
   "cell_type": "code",
   "execution_count": null,
   "id": "c7975b8e",
   "metadata": {},
   "outputs": [],
   "source": []
  },
  {
   "cell_type": "code",
   "execution_count": null,
   "id": "882bbcaf",
   "metadata": {},
   "outputs": [],
   "source": []
  }
 ],
 "metadata": {
  "kernelspec": {
   "display_name": "Python 3 (ipykernel)",
   "language": "python",
   "name": "python3"
  },
  "language_info": {
   "codemirror_mode": {
    "name": "ipython",
    "version": 3
   },
   "file_extension": ".py",
   "mimetype": "text/x-python",
   "name": "python",
   "nbconvert_exporter": "python",
   "pygments_lexer": "ipython3",
   "version": "3.9.7"
  }
 },
 "nbformat": 4,
 "nbformat_minor": 5
}
